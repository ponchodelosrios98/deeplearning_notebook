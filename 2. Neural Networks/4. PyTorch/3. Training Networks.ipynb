{
 "cells": [
  {
   "cell_type": "markdown",
   "metadata": {},
   "source": [
    "# Training Networks\n",
    "\n",
    "The first thing we need to do for training is define our loss function. In PyTorch, you'll usually see this as `criterion`. Here we're using softmax output, so we want to use `criterion = nn.CrossEntropyLoss()` as our loss. Later when training, you use `loss = criterion(output, targets)` to calculate the actual loss.\n",
    "\n",
    "We also need to define the optimizer we're using, SGD or Adam, or something along those lines. Here I'll just use SGD with `torch.optim.SGD`, passing in the network parameters and the learning rate."
   ]
  },
  {
   "cell_type": "markdown",
   "metadata": {},
   "source": [
    "## Autograd\n",
    "\n",
    "Torch provides a module, `autograd`, for automatically calculating the gradient of tensors. It does this by keeping track of operations performed on tensors. To make sure PyTorch keeps track of operations on a tensor and calculates the gradients, you need to set `requires_grad` on a tensor. You can do this at creation with the `requires_grad` keyword, or at any time with `x.requires_grad_(True)`.\n",
    "\n",
    "You can turn off gradients for a block of code with the `torch.no_grad()` content:\n",
    "```python\n",
    "x = torch.zeros(1, requires_grad=True)\n",
    ">>> with torch.no_grad():\n",
    "...     y = x * 2\n",
    ">>> y.requires_grad\n",
    "False\n",
    "```\n",
    "\n",
    "Also, you can turn on or off gradients altogether with `torch.set_grad_enabled(True|False)`.\n",
    "\n",
    "The gradients are computed with respect to some variable `z` with `z.backward()`. This does a backward pass through the operations that created `z`."
   ]
  },
  {
   "cell_type": "code",
   "execution_count": 12,
   "metadata": {},
   "outputs": [],
   "source": [
    "%matplotlib inline\n",
    "%config InlineBackend.figure_format = 'retina'\n",
    "\n",
    "from collections import OrderedDict\n",
    "\n",
    "import numpy as np\n",
    "import time\n",
    "\n",
    "import torch\n",
    "from torch import nn\n",
    "from torch import optim\n",
    "import torch.nn.functional as F\n",
    "\n",
    "import helper"
   ]
  },
  {
   "cell_type": "code",
   "execution_count": 13,
   "metadata": {},
   "outputs": [
    {
     "name": "stdout",
     "output_type": "stream",
     "text": [
      "tensor([[1.0501, 2.6534],\n",
      "        [0.1325, 0.0744]], requires_grad=True)\n"
     ]
    }
   ],
   "source": [
    "# Creates a torch matrix 2x2\n",
    "\n",
    "x = torch.randn(2,2, requires_grad=True)\n",
    "print(x)"
   ]
  },
  {
   "cell_type": "code",
   "execution_count": 14,
   "metadata": {},
   "outputs": [
    {
     "name": "stdout",
     "output_type": "stream",
     "text": [
      "tensor([[1.1027, 7.0407],\n",
      "        [0.0176, 0.0055]], grad_fn=<PowBackward0>)\n"
     ]
    }
   ],
   "source": [
    "y = x**2\n",
    "print(y)"
   ]
  },
  {
   "cell_type": "markdown",
   "metadata": {},
   "source": [
    "Below we can see the operation that created `y`, a power operation `PowBackward0`."
   ]
  },
  {
   "cell_type": "code",
   "execution_count": 15,
   "metadata": {},
   "outputs": [
    {
     "name": "stdout",
     "output_type": "stream",
     "text": [
      "<PowBackward0 object at 0x1074d1198>\n"
     ]
    }
   ],
   "source": [
    "## grad_fn shows the function that generated this variable\n",
    "print(y.grad_fn)"
   ]
  },
  {
   "cell_type": "markdown",
   "metadata": {},
   "source": [
    "The autgrad module keeps track of these operations and knows how to calculate the gradient for each one. In this way, it's able to calculate the gradients for a chain of operations, with respect to any one tensor. Let's reduce the tensor `y` to a scalar value, the mean."
   ]
  },
  {
   "cell_type": "code",
   "execution_count": 16,
   "metadata": {},
   "outputs": [
    {
     "name": "stdout",
     "output_type": "stream",
     "text": [
      "tensor(2.0416, grad_fn=<MeanBackward1>)\n"
     ]
    }
   ],
   "source": [
    "z = y.mean()\n",
    "print(z)"
   ]
  },
  {
   "cell_type": "markdown",
   "metadata": {},
   "source": [
    "You can check the gradients for `x` and `y` but they are empty currently."
   ]
  },
  {
   "cell_type": "code",
   "execution_count": 17,
   "metadata": {},
   "outputs": [
    {
     "name": "stdout",
     "output_type": "stream",
     "text": [
      "None\n"
     ]
    }
   ],
   "source": [
    "print(x.grad)"
   ]
  },
  {
   "cell_type": "markdown",
   "metadata": {},
   "source": [
    "To calculate the gradients, you need to run the `.backward` method on a Variable, `z` for example. This will calculate the gradient for `z` with respect to `x`"
   ]
  },
  {
   "cell_type": "code",
   "execution_count": 18,
   "metadata": {},
   "outputs": [
    {
     "name": "stdout",
     "output_type": "stream",
     "text": [
      "tensor([[0.5251, 1.3267],\n",
      "        [0.0663, 0.0372]])\n",
      "tensor([[0.5251, 1.3267],\n",
      "        [0.0663, 0.0372]], grad_fn=<DivBackward0>)\n"
     ]
    }
   ],
   "source": [
    "z.backward()\n",
    "print(x.grad)\n",
    "print(x/2)"
   ]
  },
  {
   "cell_type": "markdown",
   "metadata": {},
   "source": [
    "These gradients calculations are particularly useful for neural networks. For training we need the gradients of the weights with respect to the cost. With PyTorch, we run data forward through the network to calculate the cost, then, go backwards to calculate the gradients with respect to the cost. Once we have the gradients we can make a gradient descent step. "
   ]
  },
  {
   "cell_type": "markdown",
   "metadata": {},
   "source": [
    "## Get the data and define the network\n",
    "\n",
    "The same as we saw in part 3, we'll load the MNIST dataset and define our network."
   ]
  },
  {
   "cell_type": "code",
   "execution_count": 19,
   "metadata": {},
   "outputs": [],
   "source": [
    "from torchvision import datasets, transforms\n",
    "\n",
    "# Define a transform to normalize the data\n",
    "transform = transforms.Compose([transforms.ToTensor(),\n",
    "                              transforms.Normalize((0.5, 0.5, 0.5), (0.5, 0.5, 0.5)),\n",
    "                             ])\n",
    "\n",
    "# Download and load the training data\n",
    "trainset = datasets.MNIST('MNIST_data/', download=True, train=True, transform=transform)\n",
    "trainloader = torch.utils.data.DataLoader(trainset, batch_size=64, shuffle=True)"
   ]
  },
  {
   "cell_type": "markdown",
   "metadata": {},
   "source": [
    "I'll build a network with `nn.Sequential` here. Only difference from the last part is I'm not actually using softmax on the output, but instead just using the raw output from the last layer. This is because the output from softmax is a probability distribution. Often, the output will have values really close to zero or really close to one. Due to [inaccuracies with representing numbers as floating points](https://docs.python.org/3/tutorial/floatingpoint.html), computations with a softmax output can lose accuracy and become unstable. To get around this, we'll use the raw output, called the **logits**, to calculate the loss."
   ]
  },
  {
   "cell_type": "code",
   "execution_count": 20,
   "metadata": {},
   "outputs": [],
   "source": [
    "# Hyperparameters for our network\n",
    "input_size = 784\n",
    "hidden_sizes = [128, 64]\n",
    "output_size = 10\n",
    "\n",
    "# Build a feed-forward network\n",
    "model = nn.Sequential(OrderedDict([\n",
    "                      ('fc1', nn.Linear(input_size, hidden_sizes[0])),\n",
    "                      ('relu1', nn.ReLU()),\n",
    "                      ('fc2', nn.Linear(hidden_sizes[0], hidden_sizes[1])),\n",
    "                      ('relu2', nn.ReLU()),\n",
    "                      ('logits', nn.Linear(hidden_sizes[1], output_size))]))"
   ]
  },
  {
   "cell_type": "markdown",
   "metadata": {},
   "source": [
    "## Training the network!\n",
    "\n",
    "The first thing we need to do for training is define our loss function. In PyTorch, you'll usually see this as `criterion`. Here we're using softmax output, so we want to use `criterion = nn.CrossEntropyLoss()` as our loss. Later when training, you use `loss = criterion(output, targets)` to calculate the actual loss.\n",
    "\n",
    "We also need to define the optimizer we're using, SGD or Adam, or something along those lines. Here I'll just use SGD with `torch.optim.SGD`, passing in the network parameters and the learning rate."
   ]
  },
  {
   "cell_type": "code",
   "execution_count": 22,
   "metadata": {},
   "outputs": [],
   "source": [
    "criterion = nn.CrossEntropyLoss()\n",
    "\n",
    "# Updates each weight in layers\n",
    "optimizer = optim.SGD(model.parameters(), lr=0.01)"
   ]
  },
  {
   "cell_type": "markdown",
   "metadata": {},
   "source": [
    "First, let's consider just one learning step before looping through all the data. The general process with PyTorch:\n",
    "\n",
    "* Make a forward pass through the network to get the logits \n",
    "* Use the logits to calculate the loss\n",
    "* Perform a backward pass through the network with `loss.backward()` to calculate the gradients\n",
    "* Take a step with the optimizer to update the weights\n",
    "\n",
    "Below I'll go through one training step and print out the weights and gradients so you can see how it changes."
   ]
  },
  {
   "cell_type": "code",
   "execution_count": 23,
   "metadata": {},
   "outputs": [
    {
     "name": "stdout",
     "output_type": "stream",
     "text": [
      "Initial weights -  Parameter containing:\n",
      "tensor([[ 0.0188,  0.0315, -0.0034,  ...,  0.0218, -0.0075,  0.0181],\n",
      "        [-0.0259,  0.0191,  0.0224,  ...,  0.0222, -0.0292,  0.0015],\n",
      "        [ 0.0143, -0.0128, -0.0280,  ...,  0.0282,  0.0064, -0.0136],\n",
      "        ...,\n",
      "        [ 0.0227, -0.0152, -0.0210,  ..., -0.0204, -0.0066,  0.0122],\n",
      "        [ 0.0034,  0.0260,  0.0077,  ..., -0.0118,  0.0185,  0.0201],\n",
      "        [-0.0243, -0.0172, -0.0115,  ..., -0.0028,  0.0090, -0.0175]],\n",
      "       requires_grad=True)\n",
      "Gradient - tensor([[-0.0037, -0.0037, -0.0037,  ..., -0.0037, -0.0037, -0.0037],\n",
      "        [-0.0018, -0.0018, -0.0018,  ..., -0.0018, -0.0018, -0.0018],\n",
      "        [ 0.0010,  0.0010,  0.0010,  ...,  0.0010,  0.0010,  0.0010],\n",
      "        ...,\n",
      "        [ 0.0002,  0.0002,  0.0002,  ...,  0.0002,  0.0002,  0.0002],\n",
      "        [-0.0001, -0.0001, -0.0001,  ..., -0.0001, -0.0001, -0.0001],\n",
      "        [ 0.0017,  0.0017,  0.0017,  ...,  0.0017,  0.0017,  0.0017]])\n"
     ]
    }
   ],
   "source": [
    "print('Initial weights - ', model.fc1.weight)\n",
    "\n",
    "images, labels = next(iter(trainloader))\n",
    "images.resize_(64, 784)\n",
    "\n",
    "# Clear the gradients, do this because gradients are accumulated\n",
    "optimizer.zero_grad()\n",
    "\n",
    "# Forward pass, then backward pass, then update weights\n",
    "output = model.forward(images)\n",
    "loss = criterion(output, labels)\n",
    "loss.backward()\n",
    "\n",
    "print('Gradient -', model.fc1.weight.grad)\n",
    "optimizer.step()"
   ]
  },
  {
   "cell_type": "code",
   "execution_count": 24,
   "metadata": {},
   "outputs": [
    {
     "name": "stdout",
     "output_type": "stream",
     "text": [
      "Updated weights -  Parameter containing:\n",
      "tensor([[ 0.0188,  0.0316, -0.0034,  ...,  0.0218, -0.0075,  0.0182],\n",
      "        [-0.0259,  0.0191,  0.0224,  ...,  0.0222, -0.0292,  0.0015],\n",
      "        [ 0.0143, -0.0128, -0.0280,  ...,  0.0282,  0.0064, -0.0136],\n",
      "        ...,\n",
      "        [ 0.0227, -0.0152, -0.0210,  ..., -0.0204, -0.0066,  0.0122],\n",
      "        [ 0.0034,  0.0260,  0.0077,  ..., -0.0118,  0.0185,  0.0201],\n",
      "        [-0.0244, -0.0172, -0.0115,  ..., -0.0028,  0.0089, -0.0175]],\n",
      "       requires_grad=True)\n"
     ]
    }
   ],
   "source": [
    "print('Updated weights - ', model.fc1.weight)"
   ]
  },
  {
   "cell_type": "markdown",
   "metadata": {},
   "source": [
    "### Training for real\n",
    "\n",
    "Now we'll put this algorithm into a loop so we can go through all the images. This is fairly straightforward. We'll loop through the mini-batches in our dataset, pass the data through the network to calculate the losses, get the gradients, then run the optimizer."
   ]
  },
  {
   "cell_type": "code",
   "execution_count": 25,
   "metadata": {},
   "outputs": [],
   "source": [
    "optimizer = optim.SGD(model.parameters(), lr=0.003)"
   ]
  },
  {
   "cell_type": "code",
   "execution_count": 26,
   "metadata": {},
   "outputs": [
    {
     "name": "stdout",
     "output_type": "stream",
     "text": [
      "Epoch: 1/3...  Loss: 2.2989\n",
      "Epoch: 1/3...  Loss: 2.2782\n",
      "Epoch: 1/3...  Loss: 2.2627\n",
      "Epoch: 1/3...  Loss: 2.2407\n",
      "Epoch: 1/3...  Loss: 2.2198\n",
      "Epoch: 1/3...  Loss: 2.2015\n",
      "Epoch: 1/3...  Loss: 2.1776\n",
      "Epoch: 1/3...  Loss: 2.1515\n",
      "Epoch: 1/3...  Loss: 2.1250\n",
      "Epoch: 1/3...  Loss: 2.0967\n",
      "Epoch: 1/3...  Loss: 2.0571\n",
      "Epoch: 1/3...  Loss: 2.0141\n",
      "Epoch: 1/3...  Loss: 1.9713\n",
      "Epoch: 1/3...  Loss: 1.9200\n",
      "Epoch: 1/3...  Loss: 1.8451\n",
      "Epoch: 1/3...  Loss: 1.7980\n",
      "Epoch: 1/3...  Loss: 1.7252\n",
      "Epoch: 1/3...  Loss: 1.6790\n",
      "Epoch: 1/3...  Loss: 1.5992\n",
      "Epoch: 1/3...  Loss: 1.4893\n",
      "Epoch: 1/3...  Loss: 1.4579\n",
      "Epoch: 1/3...  Loss: 1.3722\n",
      "Epoch: 1/3...  Loss: 1.3187\n",
      "Epoch: 2/3...  Loss: 0.6855\n",
      "Epoch: 2/3...  Loss: 1.2060\n",
      "Epoch: 2/3...  Loss: 1.1464\n",
      "Epoch: 2/3...  Loss: 1.0885\n",
      "Epoch: 2/3...  Loss: 1.0508\n",
      "Epoch: 2/3...  Loss: 1.0080\n",
      "Epoch: 2/3...  Loss: 0.9642\n",
      "Epoch: 2/3...  Loss: 0.9398\n",
      "Epoch: 2/3...  Loss: 0.9104\n",
      "Epoch: 2/3...  Loss: 0.8516\n",
      "Epoch: 2/3...  Loss: 0.8271\n",
      "Epoch: 2/3...  Loss: 0.8202\n",
      "Epoch: 2/3...  Loss: 0.7953\n",
      "Epoch: 2/3...  Loss: 0.7845\n",
      "Epoch: 2/3...  Loss: 0.7591\n",
      "Epoch: 2/3...  Loss: 0.7398\n",
      "Epoch: 2/3...  Loss: 0.6979\n",
      "Epoch: 2/3...  Loss: 0.6918\n",
      "Epoch: 2/3...  Loss: 0.6981\n",
      "Epoch: 2/3...  Loss: 0.6598\n",
      "Epoch: 2/3...  Loss: 0.6594\n",
      "Epoch: 2/3...  Loss: 0.6448\n",
      "Epoch: 2/3...  Loss: 0.6310\n",
      "Epoch: 3/3...  Loss: 0.0468\n",
      "Epoch: 3/3...  Loss: 0.6135\n",
      "Epoch: 3/3...  Loss: 0.5847\n",
      "Epoch: 3/3...  Loss: 0.5816\n",
      "Epoch: 3/3...  Loss: 0.5646\n",
      "Epoch: 3/3...  Loss: 0.5531\n",
      "Epoch: 3/3...  Loss: 0.5875\n",
      "Epoch: 3/3...  Loss: 0.5311\n",
      "Epoch: 3/3...  Loss: 0.5356\n",
      "Epoch: 3/3...  Loss: 0.5372\n",
      "Epoch: 3/3...  Loss: 0.5354\n",
      "Epoch: 3/3...  Loss: 0.5186\n",
      "Epoch: 3/3...  Loss: 0.4978\n",
      "Epoch: 3/3...  Loss: 0.4937\n",
      "Epoch: 3/3...  Loss: 0.5048\n",
      "Epoch: 3/3...  Loss: 0.5192\n",
      "Epoch: 3/3...  Loss: 0.5124\n",
      "Epoch: 3/3...  Loss: 0.4953\n",
      "Epoch: 3/3...  Loss: 0.4885\n",
      "Epoch: 3/3...  Loss: 0.4775\n",
      "Epoch: 3/3...  Loss: 0.4602\n",
      "Epoch: 3/3...  Loss: 0.4697\n",
      "Epoch: 3/3...  Loss: 0.5098\n",
      "Epoch: 3/3...  Loss: 0.4619\n"
     ]
    }
   ],
   "source": [
    "epochs = 3\n",
    "print_every = 40\n",
    "steps = 0\n",
    "\n",
    "for e in range(epochs):\n",
    "    running_loss = 0\n",
    "    for images, labels in iter(trainloader):\n",
    "        steps += 1\n",
    "        # Flatten MNIST images into a 784 long vector\n",
    "        images.resize_(images.size()[0], 784)\n",
    "        \n",
    "        # Clears grad\n",
    "        optimizer.zero_grad()\n",
    "        \n",
    "        # Forward and backward passes\n",
    "        output = model.forward(images)\n",
    "        \n",
    "        # Output - labels\n",
    "        loss = criterion(output, labels)\n",
    "        loss.backward()\n",
    "        \n",
    "        # Updates weights\n",
    "        optimizer.step()\n",
    "        \n",
    "        running_loss += loss.item()\n",
    "        \n",
    "        if steps % print_every == 0:\n",
    "            print(\"Epoch: {}/{}... \".format(e+1, epochs),\n",
    "                  \"Loss: {:.4f}\".format(running_loss/print_every))\n",
    "            \n",
    "            running_loss = 0"
   ]
  },
  {
   "cell_type": "code",
   "execution_count": 27,
   "metadata": {},
   "outputs": [
    {
     "data": {
      "image/png": "[encoded data removed]",
      "text/plain": [
       "<Figure size 432x648 with 2 Axes>"
      ]
     },
     "metadata": {
      "image/png": {
       "height": 224,
       "width": 423
      }
     },
     "output_type": "display_data"
    }
   ],
   "source": [
    "images, labels = next(iter(trainloader))\n",
    "\n",
    "img = images[0].view(1, 784)\n",
    "# Turn off gradients to speed up this part\n",
    "with torch.no_grad():\n",
    "    logits = model.forward(img)\n",
    "\n",
    "# Output of the network are logits, need to take softmax for probabilities\n",
    "ps = F.softmax(logits, dim=1)\n",
    "helper.view_classify(img.view(1, 28, 28), ps)"
   ]
  },
  {
   "cell_type": "code",
   "execution_count": null,
   "metadata": {},
   "outputs": [],
   "source": []
  }
 ],
 "metadata": {
  "kernelspec": {
   "display_name": "Python 3",
   "language": "python",
   "name": "python3"
  },
  "language_info": {
   "codemirror_mode": {
    "name": "ipython",
    "version": 3
   },
   "file_extension": ".py",
   "mimetype": "text/x-python",
   "name": "python",
   "nbconvert_exporter": "python",
   "pygments_lexer": "ipython3",
   "version": "3.7.0"
  }
 },
 "nbformat": 4,
 "nbformat_minor": 2
}
