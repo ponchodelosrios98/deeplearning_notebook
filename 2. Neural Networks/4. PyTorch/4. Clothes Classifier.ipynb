{
 "cells": [
  {
   "cell_type": "markdown",
   "metadata": {},
   "source": [
    "# Classifying Fashion-MNIST\n",
    "\n",
    "Now it's your turn to build and train a neural network. You'll be using the [Fashion-MNIST dataset](https://github.com/zalandoresearch/fashion-mnist), a drop-in replacement for the MNIST dataset. MNIST is actually quite trivial with neural networks where you can easily achieve better than 97% accuracy. Fashion-MNIST is a set of 28x28 greyscale images of clothes. It's more complex than MNIST, so it's a better representation of the actual performance of your network, and a better representation of datasets you'll use in the real world.\n",
    "\n",
    "<img src='assets/fashion-mnist-sprite.png' width=500px>\n",
    "\n",
    "In this notebook, you'll build your own neural network. For the most part, you could just copy and paste the code from Part 3, but you wouldn't be learning. It's important for you to write the code yourself and get it to work. Feel free to consult the previous notebook though as you work through this.\n",
    "\n",
    "First off, let's load the dataset through torchvision."
   ]
  },
  {
   "cell_type": "code",
   "execution_count": 3,
   "metadata": {},
   "outputs": [
    {
     "name": "stdout",
     "output_type": "stream",
     "text": [
      "Downloading http://fashion-mnist.s3-website.eu-central-1.amazonaws.com/train-images-idx3-ubyte.gz\n",
      "Downloading http://fashion-mnist.s3-website.eu-central-1.amazonaws.com/train-labels-idx1-ubyte.gz\n",
      "Downloading http://fashion-mnist.s3-website.eu-central-1.amazonaws.com/t10k-images-idx3-ubyte.gz\n",
      "Downloading http://fashion-mnist.s3-website.eu-central-1.amazonaws.com/t10k-labels-idx1-ubyte.gz\n",
      "Processing...\n",
      "Done!\n"
     ]
    }
   ],
   "source": [
    "import torch\n",
    "from torchvision import datasets, transforms\n",
    "import helper\n",
    "\n",
    "# Define a transform to normalize the data\n",
    "transform = transforms.Compose([transforms.ToTensor(),\n",
    "                                transforms.Normalize((0.5, 0.5, 0.5), (0.5, 0.5, 0.5))])\n",
    "# Download and load the training data\n",
    "trainset = datasets.FashionMNIST('F_MNIST_data/', download=True, train=True, transform=transform)\n",
    "trainloader = torch.utils.data.DataLoader(trainset, batch_size=64, shuffle=True)\n",
    "\n",
    "# Download and load the test data\n",
    "testset = datasets.FashionMNIST('F_MNIST_data/', download=True, train=False, transform=transform)\n",
    "testloader = torch.utils.data.DataLoader(testset, batch_size=64, shuffle=True)"
   ]
  },
  {
   "cell_type": "markdown",
   "metadata": {},
   "source": [
    "Here we can see one of the images."
   ]
  },
  {
   "cell_type": "code",
   "execution_count": 4,
   "metadata": {},
   "outputs": [
    {
     "data": {
      "image/png": "[encoded data removed]",
      "text/plain": [
       "<Figure size 432x288 with 1 Axes>"
      ]
     },
     "metadata": {},
     "output_type": "display_data"
    }
   ],
   "source": [
    "image, label = next(iter(trainloader))\n",
    "helper.imshow(image[0,:]);"
   ]
  },
  {
   "cell_type": "markdown",
   "metadata": {},
   "source": [
    "With the data loaded, it's time to import the necessary packages."
   ]
  },
  {
   "cell_type": "code",
   "execution_count": 8,
   "metadata": {},
   "outputs": [],
   "source": [
    "%matplotlib inline\n",
    "%config InlineBackend.figure_format = 'retina'\n",
    "\n",
    "import matplotlib.pyplot as plt\n",
    "import numpy as np\n",
    "import time\n",
    "\n",
    "import torch\n",
    "from torch import nn\n",
    "from torch import optim\n",
    "import torch.nn.functional as F\n",
    "from torchvision import datasets, transforms\n",
    "\n",
    "from collections import OrderedDict\n",
    "\n",
    "import helper"
   ]
  },
  {
   "cell_type": "markdown",
   "metadata": {},
   "source": [
    "## Building the network\n",
    "\n",
    "Here you should define your network. As with MNIST, each image is 28x28 which is a total of 784 pixels, and there are 10 classes. You should include at least one hidden layer. We suggest you use ReLU activations for the layers and to return the logits from the forward pass. It's up to you how many layers you add and the size of those layers."
   ]
  },
  {
   "cell_type": "code",
   "execution_count": 9,
   "metadata": {},
   "outputs": [],
   "source": [
    "# Hyperparameters for our network\n",
    "input_size = 784\n",
    "hidden_sizes = [128, 64]\n",
    "output_size = 10"
   ]
  },
  {
   "cell_type": "markdown",
   "metadata": {},
   "source": [
    "# Train the network\n",
    "\n",
    "Now you should create your network and train it. First you'll want to define [the criterion](http://pytorch.org/docs/master/nn.html#loss-functions) ( something like `nn.CrossEntropyLoss`) and [the optimizer](http://pytorch.org/docs/master/optim.html) (typically `optim.SGD` or `optim.Adam`).\n",
    "\n",
    "Then write the training code. Remember the training pass is a fairly straightforward process:\n",
    "\n",
    "* Make a forward pass through the network to get the logits \n",
    "* Use the logits to calculate the loss\n",
    "* Perform a backward pass through the network with `loss.backward()` to calculate the gradients\n",
    "* Take a step with the optimizer to update the weights\n",
    "\n",
    "By adjusting the hyperparameters (hidden units, learning rate, etc), you should be able to get the training loss below 0.4."
   ]
  },
  {
   "cell_type": "code",
   "execution_count": 10,
   "metadata": {},
   "outputs": [],
   "source": [
    "# TODO: Create the network, define the criterion and optimizer\n",
    "model = nn.Sequential(OrderedDict([\n",
    "                      ('fc1', nn.Linear(input_size, hidden_sizes[0])),\n",
    "                      ('relu1', nn.ReLU()),\n",
    "                      ('fc2', nn.Linear(hidden_sizes[0], hidden_sizes[1])),\n",
    "                      ('relu2', nn.ReLU()),\n",
    "                      ('logits', nn.Linear(hidden_sizes[1], output_size))]))\n",
    "\n",
    "\n",
    "criterion = nn.CrossEntropyLoss()\n",
    "\n",
    "# Updates each weight in layers\n",
    "optimizer = optim.SGD(model.parameters(), lr=0.01)"
   ]
  },
  {
   "cell_type": "code",
   "execution_count": 11,
   "metadata": {},
   "outputs": [
    {
     "name": "stdout",
     "output_type": "stream",
     "text": [
      "Epoch: 1/3...  Loss: 2.2578\n",
      "Epoch: 1/3...  Loss: 2.1240\n",
      "Epoch: 1/3...  Loss: 1.9105\n",
      "Epoch: 1/3...  Loss: 1.6590\n",
      "Epoch: 1/3...  Loss: 1.4002\n",
      "Epoch: 1/3...  Loss: 1.1986\n",
      "Epoch: 1/3...  Loss: 1.0498\n",
      "Epoch: 1/3...  Loss: 0.9500\n",
      "Epoch: 1/3...  Loss: 0.9030\n",
      "Epoch: 1/3...  Loss: 0.8639\n",
      "Epoch: 1/3...  Loss: 0.7952\n",
      "Epoch: 1/3...  Loss: 0.7534\n",
      "Epoch: 1/3...  Loss: 0.7275\n",
      "Epoch: 1/3...  Loss: 0.7493\n",
      "Epoch: 1/3...  Loss: 0.7035\n",
      "Epoch: 1/3...  Loss: 0.7039\n",
      "Epoch: 1/3...  Loss: 0.6664\n",
      "Epoch: 1/3...  Loss: 0.6743\n",
      "Epoch: 1/3...  Loss: 0.6360\n",
      "Epoch: 1/3...  Loss: 0.6248\n",
      "Epoch: 1/3...  Loss: 0.6360\n",
      "Epoch: 1/3...  Loss: 0.6127\n",
      "Epoch: 1/3...  Loss: 0.5962\n",
      "Epoch: 2/3...  Loss: 0.3347\n",
      "Epoch: 2/3...  Loss: 0.6068\n",
      "Epoch: 2/3...  Loss: 0.5981\n",
      "Epoch: 2/3...  Loss: 0.5942\n",
      "Epoch: 2/3...  Loss: 0.5720\n",
      "Epoch: 2/3...  Loss: 0.5761\n",
      "Epoch: 2/3...  Loss: 0.5948\n",
      "Epoch: 2/3...  Loss: 0.5774\n",
      "Epoch: 2/3...  Loss: 0.5858\n",
      "Epoch: 2/3...  Loss: 0.5547\n",
      "Epoch: 2/3...  Loss: 0.5681\n",
      "Epoch: 2/3...  Loss: 0.5421\n",
      "Epoch: 2/3...  Loss: 0.5397\n",
      "Epoch: 2/3...  Loss: 0.5423\n",
      "Epoch: 2/3...  Loss: 0.5362\n",
      "Epoch: 2/3...  Loss: 0.5195\n",
      "Epoch: 2/3...  Loss: 0.5547\n",
      "Epoch: 2/3...  Loss: 0.5523\n",
      "Epoch: 2/3...  Loss: 0.5237\n",
      "Epoch: 2/3...  Loss: 0.5204\n",
      "Epoch: 2/3...  Loss: 0.5334\n",
      "Epoch: 2/3...  Loss: 0.4895\n",
      "Epoch: 2/3...  Loss: 0.5323\n",
      "Epoch: 3/3...  Loss: 0.0457\n",
      "Epoch: 3/3...  Loss: 0.5237\n",
      "Epoch: 3/3...  Loss: 0.5303\n",
      "Epoch: 3/3...  Loss: 0.5225\n",
      "Epoch: 3/3...  Loss: 0.5427\n",
      "Epoch: 3/3...  Loss: 0.4931\n",
      "Epoch: 3/3...  Loss: 0.4891\n",
      "Epoch: 3/3...  Loss: 0.4850\n",
      "Epoch: 3/3...  Loss: 0.4671\n",
      "Epoch: 3/3...  Loss: 0.4882\n",
      "Epoch: 3/3...  Loss: 0.4811\n",
      "Epoch: 3/3...  Loss: 0.4675\n",
      "Epoch: 3/3...  Loss: 0.4780\n",
      "Epoch: 3/3...  Loss: 0.4648\n",
      "Epoch: 3/3...  Loss: 0.4932\n",
      "Epoch: 3/3...  Loss: 0.4870\n",
      "Epoch: 3/3...  Loss: 0.4730\n",
      "Epoch: 3/3...  Loss: 0.4894\n",
      "Epoch: 3/3...  Loss: 0.4703\n",
      "Epoch: 3/3...  Loss: 0.4559\n",
      "Epoch: 3/3...  Loss: 0.4637\n",
      "Epoch: 3/3...  Loss: 0.4765\n",
      "Epoch: 3/3...  Loss: 0.4806\n",
      "Epoch: 3/3...  Loss: 0.5020\n"
     ]
    }
   ],
   "source": [
    "epochs = 3\n",
    "print_every = 40\n",
    "steps = 0\n",
    "\n",
    "for e in range(epochs):\n",
    "    running_loss = 0\n",
    "    for images, labels in iter(trainloader):\n",
    "        steps += 1\n",
    "        # Flatten MNIST images into a 784 long vector\n",
    "        images.resize_(images.size()[0], 784)\n",
    "        \n",
    "        # Clears grad\n",
    "        optimizer.zero_grad()\n",
    "        \n",
    "        # Forward and backward passes\n",
    "        output = model.forward(images)\n",
    "        \n",
    "        # Output - labels\n",
    "        loss = criterion(output, labels)\n",
    "        loss.backward()\n",
    "        \n",
    "        # Updates weights\n",
    "        optimizer.step()\n",
    "        \n",
    "        running_loss += loss.item()\n",
    "        \n",
    "        if steps % print_every == 0:\n",
    "            print(\"Epoch: {}/{}... \".format(e+1, epochs),\n",
    "                  \"Loss: {:.4f}\".format(running_loss/print_every))\n",
    "            \n",
    "            running_loss = 0"
   ]
  },
  {
   "cell_type": "code",
   "execution_count": 50,
   "metadata": {},
   "outputs": [
    {
     "data": {
      "image/png": "[encoded data removed]",
      "text/plain": [
       "<matplotlib.figure.Figure at 0x7f59b499a320>"
      ]
     },
     "metadata": {
      "image/png": {
       "height": 204,
       "width": 423
      }
     },
     "output_type": "display_data"
    }
   ],
   "source": [
    "# Test out your network!\n",
    "\n",
    "dataiter = iter(testloader)\n",
    "images, labels = dataiter.next()\n",
    "img = images[0]\n",
    "\n",
    "# Convert 2D image to 1D vector\n",
    "img = img.resize_(1, 784)\n",
    "\n",
    "# TODO: Calculate the class probabilities (softmax) for img\n",
    "ps = \n",
    "\n",
    "# Plot the image and probabilities\n",
    "helper.view_classify(img.resize_(1, 28, 28), ps, version='Fashion')"
   ]
  },
  {
   "cell_type": "markdown",
   "metadata": {},
   "source": [
    "Now that your network is trained, you'll want to save it to disk so you can load it later instead of training it again. Obviously, it's impractical to train a network every time you need one. In practice, you'll train it once, save the model, then reload it for further training or making predictions. In the next part, I'll show you how to save and load trained models."
   ]
  }
 ],
 "metadata": {
  "kernelspec": {
   "display_name": "Python 3",
   "language": "python",
   "name": "python3"
  },
  "language_info": {
   "codemirror_mode": {
    "name": "ipython",
    "version": 3
   },
   "file_extension": ".py",
   "mimetype": "text/x-python",
   "name": "python",
   "nbconvert_exporter": "python",
   "pygments_lexer": "ipython3",
   "version": "3.6.5"
  }
 },
 "nbformat": 4,
 "nbformat_minor": 2
}
