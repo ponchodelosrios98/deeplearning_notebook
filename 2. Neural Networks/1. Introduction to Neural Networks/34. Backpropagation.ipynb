{
 "cells": [
  {
   "cell_type": "markdown",
   "metadata": {},
   "source": [
    "# Backpropagation\n",
    "\n",
    "Now, we're ready to get our hands into training a neural network. For this, we'll use the method known as backpropagation. In a nutshell, backpropagation will consist of:\n",
    "\n",
    "1. Doing a feedforward operation.\n",
    "2. Comparing the output of the model with the desired output.\n",
    "3. Calculating the error.\n",
    "4. Running the feedforward operation backwards (backpropagation) to spread the error to each of the weights.\n",
    "5. Use this to update the weights, and get a better model.\n",
    "6. Continue this until we have a model that is good.\n",
    "\n",
    "Sounds more complicated than what it actually is. Let's take a look in the next few videos. The first video will show us a conceptual interpretation of what backpropagation is."
   ]
  },
  {
   "cell_type": "code",
   "execution_count": null,
   "metadata": {},
   "outputs": [],
   "source": []
  }
 ],
 "metadata": {
  "kernelspec": {
   "display_name": "Python [default]",
   "language": "python",
   "name": "python3"
  },
  "language_info": {
   "codemirror_mode": {
    "name": "ipython",
    "version": 3
   },
   "file_extension": ".py",
   "mimetype": "text/x-python",
   "name": "python",
   "nbconvert_exporter": "python",
   "pygments_lexer": "ipython3",
   "version": "3.6.5"
  }
 },
 "nbformat": 4,
 "nbformat_minor": 2
}
