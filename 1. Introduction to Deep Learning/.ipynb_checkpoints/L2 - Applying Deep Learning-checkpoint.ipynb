{
 "cells": [
  {
   "cell_type": "markdown",
   "metadata": {},
   "source": [
    "# Applying Deep Learning"
   ]
  },
  {
   "cell_type": "markdown",
   "metadata": {},
   "source": [
    "## Style Transfer\n",
    "\n",
    "As an example of the kind of things you'll be building with deep learning models, here is a really fun project, fast style transfer. Style transfer allows you to take famous paintings, and recreate your own images in their styles! The network learns the underlying techniques of those paintings and figures out how to apply them on its own. This model was trained on the styles of famous paintings and is able to transfer those styles to other images and even videos!"
   ]
  },
  {
   "cell_type": "markdown",
   "metadata": {},
   "source": [
    "Github Repository:\n",
    "\n",
    "https://github.com/lengstrom/fast-style-transfer\n",
    "\n",
    "To install:"
   ]
  },
  {
   "cell_type": "raw",
   "metadata": {},
   "source": [
    "conda create -n style-transfer python=3\n",
    "activate style-transfer\n",
    "conda install tensorflow scipy pillow\n",
    "pip install moviepy\n",
    "python -c \"import imageio; imageio.plugins.ffmpeg.download()\""
   ]
  },
  {
   "cell_type": "markdown",
   "metadata": {},
   "source": [
    "### Transferring styles\n",
    "\n",
    "1. Download the Zip archive from the [fast-style-transfer](https://github.com/lengstrom/fast-style-transfer) repository and extract it. You can download it by clicking on the bright green button on the right.\n",
    "\n",
    "2. Download the Rain Princess [checkpoint from here](https://d17h27t6h515a5.cloudfront.net/topher/2017/January/587d1865_rain-princess/rain-princess.ckpt). Put it in the fast-style-transfer folder. A checkpoint file is a model that already has tuned parameters. By using this checkpoint file, we won't need to train the model and can get straight to applying it.\n",
    "\n",
    "3. Copy the image you want to style into the fast-style-transfer folder.\n",
    "4. Enter the Conda environment you created above, if you aren't still in it."
   ]
  },
  {
   "cell_type": "raw",
   "metadata": {},
   "source": [
    "python evaluate.py --checkpoint ./rain-princess.ckpt --in-path <path_to_input_file> --out-path ./output_image.jpg"
   ]
  },
  {
   "cell_type": "markdown",
   "metadata": {},
   "source": [
    "## DeepTraffic"
   ]
  },
  {
   "cell_type": "markdown",
   "metadata": {},
   "source": [
    "Another great application of deep learning is in simulating traffic and making driving decisions. You can find the DeepTraffic simulator [here](https://selfdrivingcars.mit.edu/deeptraffic/).\n",
    "\n",
    "The network here is attempting to learn a driving strategy such that the car is moving as fast as possible using reinforcement learning.\n",
    "\n",
    "The network is rewarded when the car chooses actions that result in it moving fast. It's this feedback that allows the network to find a strategy of actions for optimal speed.\n",
    "\n",
    "To learn more about setting the parameters and training the network, read the overview [here](https://selfdrivingcars.mit.edu/deeptraffic/)."
   ]
  }
 ],
 "metadata": {
  "kernelspec": {
   "display_name": "Python 3",
   "language": "python",
   "name": "python3"
  },
  "language_info": {
   "codemirror_mode": {
    "name": "ipython",
    "version": 3
   },
   "file_extension": ".py",
   "mimetype": "text/x-python",
   "name": "python",
   "nbconvert_exporter": "python",
   "pygments_lexer": "ipython3",
   "version": "3.6.5"
  }
 },
 "nbformat": 4,
 "nbformat_minor": 2
}
