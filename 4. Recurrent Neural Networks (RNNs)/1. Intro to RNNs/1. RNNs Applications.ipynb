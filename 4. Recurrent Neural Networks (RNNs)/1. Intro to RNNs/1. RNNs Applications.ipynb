{
 "cells": [
  {
   "cell_type": "markdown",
   "metadata": {},
   "source": [
    "# RNNs Applications\n",
    "\n",
    "- Are you into gaming and bots? Check out the [DotA 2 bot by Open AI](https://blog.openai.com/dota-2/)\n",
    "- How about automatically adding [sounds to silent movies](https://www.youtube.com/watch?time_continue=1&v=0FW99AQmMc8)?\n",
    "- Here is a cool tool for [automatic handwriting generation](http://www.cs.toronto.edu/~graves/handwriting.cgi?text=My+name+is+Luka&style=&bias=0.15&samples=3)\n",
    "- Amazon's voice to text using high quality speech recognition, [Amazon Lex](https://aws.amazon.com/lex/).\n",
    "- Facebook uses [RNN and LSTM](https://code.fb.com/ml-applications/building-an-efficient-neural-language-model-over-a-billion-words/) technologies for building language models\n",
    "- Netflix also uses RNN models - [here is an interesting read](https://arxiv.org/pdf/1511.06939.pdf)"
   ]
  },
  {
   "cell_type": "code",
   "execution_count": null,
   "metadata": {},
   "outputs": [],
   "source": []
  }
 ],
 "metadata": {
  "kernelspec": {
   "display_name": "Python 3",
   "language": "python",
   "name": "python3"
  },
  "language_info": {
   "codemirror_mode": {
    "name": "ipython",
    "version": 3
   },
   "file_extension": ".py",
   "mimetype": "text/x-python",
   "name": "python",
   "nbconvert_exporter": "python",
   "pygments_lexer": "ipython3",
   "version": "3.6.5"
  }
 },
 "nbformat": 4,
 "nbformat_minor": 2
}
