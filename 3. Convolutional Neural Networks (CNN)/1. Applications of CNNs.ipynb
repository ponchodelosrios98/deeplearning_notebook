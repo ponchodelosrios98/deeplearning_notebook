{
 "cells": [
  {
   "cell_type": "markdown",
   "metadata": {},
   "source": [
    "# Applications of CNNs\n",
    "\n",
    "### Drones that are powered by CNNs.\n",
    "\n",
    "- Here's an interview with a startup - [Intelligent Flying Machines (IFM)](https://www.youtube.com/watch?v=AMDiR61f86Y).\n",
    "- Outdoor autonomous navigation is typically accomplished through the use of the [global positioning system (GPS)](https://www.droneomega.com/gps-drone-navigation-works/), but here's a demo with a [CNN-powered autonomous drone](https://www.youtube.com/watch?v=wSFYOw4VIYY).\n",
    "\n",
    "###  CNNs in Self-driving Cars\n",
    "\n",
    "- Our [Self-Driving Car Engineer Nanodegree](https://www.udacity.com/course/self-driving-car-engineer-nanodegree--nd013), where we classify signs in the [German Traffic Sign dataset](http://benchmark.ini.rub.de/?section=gtsrb&subsection=dataset) in this [project](https://github.com/udacity/CarND-Traffic-Sign-Classifier-Project).\n",
    "- Our [Machine Learning Engineer Nanodegree](https://www.udacity.com/course/machine-learning-engineer-nanodegree--nd009t), where we classify house numbers from the [Street View House Numbers dataset](http://ufldl.stanford.edu/housenumbers/) in this [project](https://github.com/udacity/machine-learning/tree/master/projects/digit_recognition).\n",
    "- this series of [blog posts](https://pythonprogramming.net/game-frames-open-cv-python-plays-gta-v/) that details how to train a CNN in Python to produce a self-driving A.I. to play Grand Theft Auto V."
   ]
  },
  {
   "cell_type": "code",
   "execution_count": null,
   "metadata": {},
   "outputs": [],
   "source": []
  }
 ],
 "metadata": {
  "kernelspec": {
   "display_name": "Python 3",
   "language": "python",
   "name": "python3"
  },
  "language_info": {
   "codemirror_mode": {
    "name": "ipython",
    "version": 3
   },
   "file_extension": ".py",
   "mimetype": "text/x-python",
   "name": "python",
   "nbconvert_exporter": "python",
   "pygments_lexer": "ipython3",
   "version": "3.7.0"
  }
 },
 "nbformat": 4,
 "nbformat_minor": 2
}
